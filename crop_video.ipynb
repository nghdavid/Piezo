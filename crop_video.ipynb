{
 "cells": [
  {
   "cell_type": "code",
   "execution_count": 1,
   "id": "bd58d094",
   "metadata": {},
   "outputs": [],
   "source": [
    "import cv2\n",
    "import pandas as pd\n",
    "import numpy as np\n",
    "from os import listdir\n",
    "from os.path import isfile, join"
   ]
  },
  {
   "cell_type": "code",
   "execution_count": 8,
   "id": "a5c4bf11",
   "metadata": {},
   "outputs": [],
   "source": [
    "# Read image\n",
    "path = r'E:\\piezo\\20211201'#影片路徑(引號前面要加r)\n",
    "files = [f for f in listdir(path) if isfile(join(path, f))]\n",
    "fourcc = cv2.VideoWriter_fourcc(*'XVID')"
   ]
  },
  {
   "cell_type": "code",
   "execution_count": 9,
   "id": "e064ac1a",
   "metadata": {},
   "outputs": [],
   "source": [
    "cap = cv2.VideoCapture(path+\"\\\\\"+files[0])\n",
    "framenum = 0\n",
    "while(cap.isOpened()):\n",
    "    a, image = cap.read()\n",
    "    if a == False:break#讀不到frame就關閉這個while loop\n",
    "    elif framenum == 0:\n",
    "        # Select ROI\n",
    "        r = cv2.selectROI(image,False,False)\n",
    "    else: pass\n",
    "    # Crop image\n",
    "    ROI = image[int(r[1]):int(r[1]+r[3]), int(r[0]):int(r[0]+r[2])]\n",
    "    # Display cropped image\n",
    "    cv2.imshow(\"Croped Image\", ROI)\n",
    "    cv2.imshow('Raw image', image)\n",
    "    if cv2.waitKey(1) &0xFF ==ord('q'):  #按q键退出\n",
    "        break\n",
    "    framenum += 1\n",
    "cap.release()\n",
    "cv2.destroyAllWindows() # ROI視窗關閉\n"
   ]
  },
  {
   "cell_type": "code",
   "execution_count": null,
   "id": "5aae3872",
   "metadata": {},
   "outputs": [],
   "source": [
    "for file in files:   \n",
    "    output = cv2.VideoWriter(path+\"\\crop_\"+file,fourcc, 120.0,(r[2],r[3]))\n",
    "    cap = cv2.VideoCapture(path+\"\\\\\"+file)\n",
    "    while(cap.isOpened()):\n",
    "        a, image = cap.read()\n",
    "        if a == False:break#讀不到frame就關閉這個while loop\n",
    "        # Crop image\n",
    "        ROI = image[int(r[1]):int(r[1]+r[3]), int(r[0]):int(r[0]+r[2])]\n",
    "        output.write(ROI)\n",
    "        #print(framenum)\n",
    "    cap.release()\n",
    "    output.release()\n",
    "    cv2.destroyAllWindows()#ROI視窗關閉"
   ]
  },
  {
   "cell_type": "code",
   "execution_count": null,
   "id": "52144ad0",
   "metadata": {},
   "outputs": [],
   "source": []
  }
 ],
 "metadata": {
  "kernelspec": {
   "display_name": "Python 3",
   "language": "python",
   "name": "python3"
  },
  "language_info": {
   "codemirror_mode": {
    "name": "ipython",
    "version": 3
   },
   "file_extension": ".py",
   "mimetype": "text/x-python",
   "name": "python",
   "nbconvert_exporter": "python",
   "pygments_lexer": "ipython3",
   "version": "3.8.8"
  }
 },
 "nbformat": 4,
 "nbformat_minor": 5
}
