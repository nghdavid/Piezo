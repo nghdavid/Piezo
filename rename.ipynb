{
 "cells": [
  {
   "cell_type": "code",
   "execution_count": 1,
   "id": "088ea410",
   "metadata": {},
   "outputs": [],
   "source": [
    "import os\n",
    "mcd_path = r'E:\\piezo\\20211201\\deeplabcut'#The directory we save our mcd file\n",
    "files = os.listdir(mcd_path)#Get filename in mcd directory\n",
    "os.chdir(mcd_path)#Go to mcd directory\n",
    "for filename in files[:-1]:\n",
    "    os.rename(filename,filename[5:8]+'.csv') "
   ]
  }
 ],
 "metadata": {
  "kernelspec": {
   "display_name": "Python 3",
   "language": "python",
   "name": "python3"
  },
  "language_info": {
   "codemirror_mode": {
    "name": "ipython",
    "version": 3
   },
   "file_extension": ".py",
   "mimetype": "text/x-python",
   "name": "python",
   "nbconvert_exporter": "python",
   "pygments_lexer": "ipython3",
   "version": "3.8.8"
  }
 },
 "nbformat": 4,
 "nbformat_minor": 5
}
