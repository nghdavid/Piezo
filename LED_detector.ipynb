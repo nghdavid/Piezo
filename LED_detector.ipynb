{
 "cells": [
  {
   "cell_type": "code",
   "execution_count": 3,
   "id": "5af908ae",
   "metadata": {},
   "outputs": [],
   "source": [
    "import cv2\n",
    "import pandas as pd\n",
    "import numpy as np\n",
    "import matplotlib.pyplot as plt\n",
    "# Read image\n",
    "path = r'E:\\piezo\\20211201\\original\\\\'\n",
    "name = r'1-1'\n",
    "file = path+name+'.avi'#影片路徑"
   ]
  },
  {
   "cell_type": "code",
   "execution_count": 4,
   "id": "5c1b5075",
   "metadata": {},
   "outputs": [],
   "source": [
    "##########Choose LED ROI############\n",
    "#fps = cap.get(cv2.CAP_PROP_FPS)\n",
    "cap = cv2.VideoCapture(file)\n",
    "total_frame = int(cap.get(cv2.CAP_PROP_FRAME_COUNT))\n",
    "LED = np.zeros((1,total_frame))\n",
    "framenum = 0\n",
    "while(cap.isOpened()):\n",
    "    a, image = cap.read()\n",
    "    if a == False:break#讀不到frame就關閉這個while loop\n",
    "    elif framenum == 0:\n",
    "        # Select ROI\n",
    "        r = cv2.selectROI(image,False,False)\n",
    "    else: pass\n",
    "    # Crop image\n",
    "    ROI = image[int(r[1]):int(r[1]+r[3]), int(r[0]):int(r[0]+r[2])]\n",
    "    # Display cropped image\n",
    "    cv2.imshow(\"Croped Image\", ROI)\n",
    "    cv2.imshow('Raw image', image)\n",
    "    if cv2.waitKey(1) &0xFF ==ord('q'):  #按q键退出\n",
    "        break\n",
    "    framenum += 1\n",
    "cap.release()\n",
    "cv2.destroyAllWindows() # ROI視窗關閉"
   ]
  },
  {
   "cell_type": "code",
   "execution_count": 5,
   "id": "484f7a8e",
   "metadata": {},
   "outputs": [],
   "source": [
    "##########Calculate mean intensity of ROI############\n",
    "cap = cv2.VideoCapture(file)\n",
    "framenum = 0\n",
    "while(cap.isOpened()):\n",
    "    a, image = cap.read()\n",
    "    if a == False:break#讀不到frame就關閉這個while loop\n",
    "    # Crop image\n",
    "    ROI = image[int(r[1]):int(r[1]+r[3]), int(r[0]):int(r[0]+r[2])]\n",
    "    #print(framenum)\n",
    "    LED[0,framenum] = ROI.sum(axis=0).sum()/(r[3]*r[2]*3)\n",
    "    framenum += 1\n",
    "cap.release()\n",
    "cv2.destroyAllWindows()#ROI視窗關閉"
   ]
  },
  {
   "cell_type": "code",
   "execution_count": 6,
   "id": "a8f9ff8c",
   "metadata": {},
   "outputs": [
    {
     "data": {
      "text/plain": [
       "[<matplotlib.lines.Line2D at 0x1c344f62cd0>]"
      ]
     },
     "execution_count": 6,
     "metadata": {},
     "output_type": "execute_result"
    },
    {
     "data": {
      "image/png": "[encoded data removed]",
      "text/plain": [
       "<Figure size 432x288 with 1 Axes>"
      ]
     },
     "metadata": {
      "needs_background": "light"
     },
     "output_type": "display_data"
    }
   ],
   "source": [
    "#########Calculate when the light is on ##########\n",
    "LED_frames = np.zeros((1,total_frame))#It stores when the light is on\n",
    "mean = np.mean(LED[0,:])\n",
    "std = np.std(LED[0,:])\n",
    "for i in range(0,total_frame):\n",
    "    if LED[0,i] > mean+std*3: #閾值:超過多少代表燈亮\n",
    "        LED_frames[0,i] = 1#Stimulus on\n",
    "    else:\n",
    "        LED_frames[0,i] = 0#Stimulus off\n",
    "plt.plot(LED_frames[0,:])\n",
    "#np.save(path+name+'.npy',LED_frames)"
   ]
  }
 ],
 "metadata": {
  "kernelspec": {
   "display_name": "Python 3",
   "language": "python",
   "name": "python3"
  },
  "language_info": {
   "codemirror_mode": {
    "name": "ipython",
    "version": 3
   },
   "file_extension": ".py",
   "mimetype": "text/x-python",
   "name": "python",
   "nbconvert_exporter": "python",
   "pygments_lexer": "ipython3",
   "version": "3.8.8"
  }
 },
 "nbformat": 4,
 "nbformat_minor": 5
}
